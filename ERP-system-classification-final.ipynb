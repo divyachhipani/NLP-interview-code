{
  "nbformat": 4,
  "nbformat_minor": 0,
  "metadata": {
    "colab": {
      "name": "demo.ipynb",
      "provenance": []
    },
    "kernelspec": {
      "name": "python3",
      "display_name": "Python 3"
    },
    "language_info": {
      "name": "python"
    }
  },
  "cells": [
    {
      "cell_type": "markdown",
      "metadata": {
        "id": "TYsvGZoVViug"
      },
      "source": [
        "### Econscia NLP task "
      ]
    },
    {
      "cell_type": "code",
      "metadata": {
        "colab": {
          "base_uri": "https://localhost:8080/"
        },
        "id": "JMUhSo7HVAy4",
        "outputId": "547a3bfd-5e4b-4e0c-d326-77bd33ec4911"
      },
      "source": [
        "#Importing required libraries\n",
        "\n",
        "import keras\n",
        "import numpy as np\n",
        "import pandas as pd\n",
        "from keras.layers import Lambda, GlobalAveragePooling1D, Dense, Embedding, GlobalMaxPooling1D\n",
        "from keras import backend as K\n",
        "from keras.models import Sequential\n",
        "import matplotlib.pyplot as plt\n",
        "import csv\n",
        "from keras.preprocessing.text import text_to_word_sequence\n",
        "from sklearn.model_selection import train_test_split\n",
        "import nltk\n",
        "from nltk.stem import PorterStemmer\n",
        "nltk.download('wordnet')\n",
        "from nltk.stem import WordNetLemmatizer\n",
        "nltk.download('stopwords')\n",
        "from nltk.corpus import stopwords\n",
        "import re                                       \n",
        "from sklearn.svm import LinearSVC\n",
        "from nltk.classify import SklearnClassifier\n",
        "from nltk.tokenize import RegexpTokenizer\n",
        "from sklearn.metrics import precision_recall_fscore_support # to report on precision and recall\n",
        "from random import shuffle\n",
        "from sklearn.feature_selection import SelectKBest, chi2\n",
        "from sklearn.pipeline import Pipeline\n",
        "from sklearn.feature_extraction.text import TfidfTransformer\n",
        "from sklearn.metrics import confusion_matrix"
      ],
      "execution_count": 1,
      "outputs": [
        {
          "output_type": "stream",
          "text": [
            "[nltk_data] Downloading package wordnet to /root/nltk_data...\n",
            "[nltk_data]   Package wordnet is already up-to-date!\n",
            "[nltk_data] Downloading package stopwords to /root/nltk_data...\n",
            "[nltk_data]   Package stopwords is already up-to-date!\n"
          ],
          "name": "stdout"
        }
      ]
    },
    {
      "cell_type": "code",
      "metadata": {
        "id": "0fHkkZJPVPTq"
      },
      "source": [
        "# Load data\n",
        "\n",
        "data = pd.read_csv('austin_purchase_orders.csv')"
      ],
      "execution_count": 168,
      "outputs": []
    },
    {
      "cell_type": "code",
      "metadata": {
        "colab": {
          "base_uri": "https://localhost:8080/"
        },
        "id": "WjQ-FQpZMPBV",
        "outputId": "d32dea50-aee2-4499-b447-b93a57bfafb3"
      },
      "source": [
        "data.shape"
      ],
      "execution_count": 3,
      "outputs": [
        {
          "output_type": "execute_result",
          "data": {
            "text/plain": [
              "(28429, 13)"
            ]
          },
          "metadata": {
            "tags": []
          },
          "execution_count": 3
        }
      ]
    },
    {
      "cell_type": "code",
      "metadata": {
        "colab": {
          "base_uri": "https://localhost:8080/",
          "height": 293
        },
        "id": "JK2gIqMJczmC",
        "outputId": "00d57713-6565-403a-bcd1-df03cfef224e"
      },
      "source": [
        "data.head()"
      ],
      "execution_count": null,
      "outputs": [
        {
          "output_type": "execute_result",
          "data": {
            "text/html": [
              "<div>\n",
              "<style scoped>\n",
              "    .dataframe tbody tr th:only-of-type {\n",
              "        vertical-align: middle;\n",
              "    }\n",
              "\n",
              "    .dataframe tbody tr th {\n",
              "        vertical-align: top;\n",
              "    }\n",
              "\n",
              "    .dataframe thead th {\n",
              "        text-align: right;\n",
              "    }\n",
              "</style>\n",
              "<table border=\"1\" class=\"dataframe\">\n",
              "  <thead>\n",
              "    <tr style=\"text-align: right;\">\n",
              "      <th></th>\n",
              "      <th>PO_NUMBER</th>\n",
              "      <th>CONTRACT_NAME</th>\n",
              "      <th>EXTENDED_DESCRIPTION</th>\n",
              "      <th>QUANTITY</th>\n",
              "      <th>UNIT_OF_MEASURE</th>\n",
              "      <th>UNIT_OF_MEAS_DESC</th>\n",
              "      <th>UNIT_PRICE</th>\n",
              "      <th>TOTAL_PRICE</th>\n",
              "      <th>VENDOR_NAME</th>\n",
              "      <th>VENDOR_CITY</th>\n",
              "      <th>VENDOR_COUNTRY</th>\n",
              "      <th>COMMODITY_CODE</th>\n",
              "      <th>COMMODITY_DESCRIPTION</th>\n",
              "    </tr>\n",
              "  </thead>\n",
              "  <tbody>\n",
              "    <tr>\n",
              "      <th>0</th>\n",
              "      <td>DOM1100MAX43377</td>\n",
              "      <td>Critical materials Supply Arrangement</td>\n",
              "      <td>TRANSFORMER, DISTRIBUTION, SINGLE PHASE, POLE ...</td>\n",
              "      <td>2.0</td>\n",
              "      <td>EA</td>\n",
              "      <td>Each</td>\n",
              "      <td>1640.00000</td>\n",
              "      <td>3280.00</td>\n",
              "      <td>TECHLINE INC</td>\n",
              "      <td>AUSTIN</td>\n",
              "      <td>US</td>\n",
              "      <td>28586</td>\n",
              "      <td>Transformers, Power Distribution (Incl. Fluid ...</td>\n",
              "    </tr>\n",
              "    <tr>\n",
              "      <th>1</th>\n",
              "      <td>DOM1100MAX41029</td>\n",
              "      <td>forecasted jobs</td>\n",
              "      <td>TRANSFORMER, PAD-MOUNTED, 3 PHASE, FEED THRU S...</td>\n",
              "      <td>2.0</td>\n",
              "      <td>EA</td>\n",
              "      <td>Each</td>\n",
              "      <td>10036.62000</td>\n",
              "      <td>20073.24</td>\n",
              "      <td>TECHLINE INC</td>\n",
              "      <td>AUSTIN</td>\n",
              "      <td>US</td>\n",
              "      <td>28586</td>\n",
              "      <td>Transformers, Power Distribution (Incl. Fluid ...</td>\n",
              "    </tr>\n",
              "    <tr>\n",
              "      <th>2</th>\n",
              "      <td>DO620013050813439</td>\n",
              "      <td>APAC Texas/ Hot Mix/ various sections</td>\n",
              "      <td>NaN</td>\n",
              "      <td>50.7</td>\n",
              "      <td>TON</td>\n",
              "      <td>Ton</td>\n",
              "      <td>56.00000</td>\n",
              "      <td>2839.20</td>\n",
              "      <td>APAC-TEXAS INC</td>\n",
              "      <td>Round Rock</td>\n",
              "      <td>US</td>\n",
              "      <td>7452114</td>\n",
              "      <td>ASPHALTIC CONCRETE, HOT MIX, IN ACCORDANCE WIT...</td>\n",
              "    </tr>\n",
              "    <tr>\n",
              "      <th>3</th>\n",
              "      <td>DO620010060321850</td>\n",
              "      <td>Apac/hotmix</td>\n",
              "      <td>NaN</td>\n",
              "      <td>201.3</td>\n",
              "      <td>TON</td>\n",
              "      <td>Ton</td>\n",
              "      <td>54.38003</td>\n",
              "      <td>10946.70</td>\n",
              "      <td>APAC-TEXAS INC</td>\n",
              "      <td>BELTON</td>\n",
              "      <td>US</td>\n",
              "      <td>7452114</td>\n",
              "      <td>ASPHALTIC CONCRETE, HOT MIX, IN ACCORDANCE WIT...</td>\n",
              "    </tr>\n",
              "    <tr>\n",
              "      <th>4</th>\n",
              "      <td>DOM1100MAX39131</td>\n",
              "      <td>Critical materials Supply Arrangement</td>\n",
              "      <td>TRANSFORMER, DISTRIBUTION, SINGLE PHASE, PAD M...</td>\n",
              "      <td>1.0</td>\n",
              "      <td>EA</td>\n",
              "      <td>Each</td>\n",
              "      <td>2850.00000</td>\n",
              "      <td>2850.00</td>\n",
              "      <td>KBS ELECTRICAL DISTRIBUTORS INC</td>\n",
              "      <td>AUSTIN</td>\n",
              "      <td>US</td>\n",
              "      <td>28586</td>\n",
              "      <td>Transformers, Power Distribution (Incl. Fluid ...</td>\n",
              "    </tr>\n",
              "  </tbody>\n",
              "</table>\n",
              "</div>"
            ],
            "text/plain": [
              "           PO_NUMBER  ...                              COMMODITY_DESCRIPTION\n",
              "0    DOM1100MAX43377  ...  Transformers, Power Distribution (Incl. Fluid ...\n",
              "1    DOM1100MAX41029  ...  Transformers, Power Distribution (Incl. Fluid ...\n",
              "2  DO620013050813439  ...  ASPHALTIC CONCRETE, HOT MIX, IN ACCORDANCE WIT...\n",
              "3  DO620010060321850  ...  ASPHALTIC CONCRETE, HOT MIX, IN ACCORDANCE WIT...\n",
              "4    DOM1100MAX39131  ...  Transformers, Power Distribution (Incl. Fluid ...\n",
              "\n",
              "[5 rows x 13 columns]"
            ]
          },
          "metadata": {
            "tags": []
          },
          "execution_count": 24
        }
      ]
    },
    {
      "cell_type": "code",
      "metadata": {
        "colab": {
          "base_uri": "https://localhost:8080/",
          "height": 293
        },
        "id": "3nc7cL6PcSCS",
        "outputId": "cf922f37-c5d8-4dc2-9c6f-ef48dec32741"
      },
      "source": [
        "data.tail()"
      ],
      "execution_count": null,
      "outputs": [
        {
          "output_type": "execute_result",
          "data": {
            "text/html": [
              "<div>\n",
              "<style scoped>\n",
              "    .dataframe tbody tr th:only-of-type {\n",
              "        vertical-align: middle;\n",
              "    }\n",
              "\n",
              "    .dataframe tbody tr th {\n",
              "        vertical-align: top;\n",
              "    }\n",
              "\n",
              "    .dataframe thead th {\n",
              "        text-align: right;\n",
              "    }\n",
              "</style>\n",
              "<table border=\"1\" class=\"dataframe\">\n",
              "  <thead>\n",
              "    <tr style=\"text-align: right;\">\n",
              "      <th></th>\n",
              "      <th>PO_NUMBER</th>\n",
              "      <th>CONTRACT_NAME</th>\n",
              "      <th>EXTENDED_DESCRIPTION</th>\n",
              "      <th>QUANTITY</th>\n",
              "      <th>UNIT_OF_MEASURE</th>\n",
              "      <th>UNIT_OF_MEAS_DESC</th>\n",
              "      <th>UNIT_PRICE</th>\n",
              "      <th>TOTAL_PRICE</th>\n",
              "      <th>VENDOR_NAME</th>\n",
              "      <th>VENDOR_CITY</th>\n",
              "      <th>VENDOR_COUNTRY</th>\n",
              "      <th>COMMODITY_CODE</th>\n",
              "      <th>COMMODITY_DESCRIPTION</th>\n",
              "    </tr>\n",
              "  </thead>\n",
              "  <tbody>\n",
              "    <tr>\n",
              "      <th>28424</th>\n",
              "      <td>DO640015080318050</td>\n",
              "      <td>RZ Communications quote RZ-Q-1054</td>\n",
              "      <td>Motorola Two-Way Radio Parts and Accessories  ...</td>\n",
              "      <td>1.0</td>\n",
              "      <td>EA</td>\n",
              "      <td>Each</td>\n",
              "      <td>99.02</td>\n",
              "      <td>99.02</td>\n",
              "      <td>RZ COMMUNICATIONS INC</td>\n",
              "      <td>AUSTIN</td>\n",
              "      <td>US</td>\n",
              "      <td>72582</td>\n",
              "      <td>Two-Way Radio Supplies, Parts, and Accessories</td>\n",
              "    </tr>\n",
              "    <tr>\n",
              "      <th>28425</th>\n",
              "      <td>DO640015022509118</td>\n",
              "      <td>RZ COMMUNICATIONS $10,210.03 SEE ATTACHED</td>\n",
              "      <td>Smart 2 Wire W/trans Tube Blk [pmln6129a]</td>\n",
              "      <td>30.0</td>\n",
              "      <td>EA</td>\n",
              "      <td>Each</td>\n",
              "      <td>8.03</td>\n",
              "      <td>240.90</td>\n",
              "      <td>RZ COMMUNICATIONS INC</td>\n",
              "      <td>AUSTIN</td>\n",
              "      <td>US</td>\n",
              "      <td>72582</td>\n",
              "      <td>Two-Way Radio Supplies, Parts, and Accessories</td>\n",
              "    </tr>\n",
              "    <tr>\n",
              "      <th>28426</th>\n",
              "      <td>DO560011051316686</td>\n",
              "      <td>1099523-Ralph Warren-  Microsoft Core Cals</td>\n",
              "      <td>Additional licenses  1099523-WINDOWS PRO UPS/S...</td>\n",
              "      <td>0.0</td>\n",
              "      <td>NaN</td>\n",
              "      <td>NaN</td>\n",
              "      <td>0.00</td>\n",
              "      <td>3859.46</td>\n",
              "      <td>Summus Industries, Inc.</td>\n",
              "      <td>SUGAR LAND</td>\n",
              "      <td>US</td>\n",
              "      <td>20811</td>\n",
              "      <td>Application Software, Microcomputer</td>\n",
              "    </tr>\n",
              "    <tr>\n",
              "      <th>28427</th>\n",
              "      <td>DO150016011206100</td>\n",
              "      <td>RED WING Shoes/Boots - FY16</td>\n",
              "      <td>NaN</td>\n",
              "      <td>0.0</td>\n",
              "      <td>NaN</td>\n",
              "      <td>NaN</td>\n",
              "      <td>0.00</td>\n",
              "      <td>5000.00</td>\n",
              "      <td>RED WING BRANDS OF AMERICA INC</td>\n",
              "      <td>AUSTIN</td>\n",
              "      <td>US</td>\n",
              "      <td>80072</td>\n",
              "      <td>Shoes, Safety Toe</td>\n",
              "    </tr>\n",
              "    <tr>\n",
              "      <th>28428</th>\n",
              "      <td>PO640014050903586</td>\n",
              "      <td>Insight quote 215596805  U.S. COMMUNITIES</td>\n",
              "      <td>Insight quote 215596805  MR18-HW MERAKI HARDWA...</td>\n",
              "      <td>2.0</td>\n",
              "      <td>EA</td>\n",
              "      <td>Each</td>\n",
              "      <td>431.56</td>\n",
              "      <td>863.12</td>\n",
              "      <td>INSIGHT PUBLIC SECTOR INC</td>\n",
              "      <td>AUSTIN</td>\n",
              "      <td>US</td>\n",
              "      <td>20464</td>\n",
              "      <td>Network Components: Adapter Cards, Bridges, Co...</td>\n",
              "    </tr>\n",
              "  </tbody>\n",
              "</table>\n",
              "</div>"
            ],
            "text/plain": [
              "               PO_NUMBER  ...                              COMMODITY_DESCRIPTION\n",
              "28424  DO640015080318050  ...     Two-Way Radio Supplies, Parts, and Accessories\n",
              "28425  DO640015022509118  ...     Two-Way Radio Supplies, Parts, and Accessories\n",
              "28426  DO560011051316686  ...                Application Software, Microcomputer\n",
              "28427  DO150016011206100  ...                                  Shoes, Safety Toe\n",
              "28428  PO640014050903586  ...  Network Components: Adapter Cards, Bridges, Co...\n",
              "\n",
              "[5 rows x 13 columns]"
            ]
          },
          "metadata": {
            "tags": []
          },
          "execution_count": 25
        }
      ]
    },
    {
      "cell_type": "code",
      "metadata": {
        "colab": {
          "base_uri": "https://localhost:8080/",
          "height": 424
        },
        "id": "F3H16p1LFH--",
        "outputId": "1c5807d6-6df7-4cf0-e1f4-e0b3340bd5c8"
      },
      "source": [
        "data.isna()"
      ],
      "execution_count": null,
      "outputs": [
        {
          "output_type": "execute_result",
          "data": {
            "text/html": [
              "<div>\n",
              "<style scoped>\n",
              "    .dataframe tbody tr th:only-of-type {\n",
              "        vertical-align: middle;\n",
              "    }\n",
              "\n",
              "    .dataframe tbody tr th {\n",
              "        vertical-align: top;\n",
              "    }\n",
              "\n",
              "    .dataframe thead th {\n",
              "        text-align: right;\n",
              "    }\n",
              "</style>\n",
              "<table border=\"1\" class=\"dataframe\">\n",
              "  <thead>\n",
              "    <tr style=\"text-align: right;\">\n",
              "      <th></th>\n",
              "      <th>PO_NUMBER</th>\n",
              "      <th>CONTRACT_NAME</th>\n",
              "      <th>EXTENDED_DESCRIPTION</th>\n",
              "      <th>QUANTITY</th>\n",
              "      <th>UNIT_OF_MEASURE</th>\n",
              "      <th>UNIT_OF_MEAS_DESC</th>\n",
              "      <th>UNIT_PRICE</th>\n",
              "      <th>TOTAL_PRICE</th>\n",
              "      <th>VENDOR_NAME</th>\n",
              "      <th>VENDOR_CITY</th>\n",
              "      <th>VENDOR_COUNTRY</th>\n",
              "      <th>COMMODITY_CODE</th>\n",
              "      <th>COMMODITY_DESCRIPTION</th>\n",
              "    </tr>\n",
              "  </thead>\n",
              "  <tbody>\n",
              "    <tr>\n",
              "      <th>0</th>\n",
              "      <td>False</td>\n",
              "      <td>False</td>\n",
              "      <td>False</td>\n",
              "      <td>False</td>\n",
              "      <td>False</td>\n",
              "      <td>False</td>\n",
              "      <td>False</td>\n",
              "      <td>False</td>\n",
              "      <td>False</td>\n",
              "      <td>False</td>\n",
              "      <td>False</td>\n",
              "      <td>False</td>\n",
              "      <td>False</td>\n",
              "    </tr>\n",
              "    <tr>\n",
              "      <th>1</th>\n",
              "      <td>False</td>\n",
              "      <td>False</td>\n",
              "      <td>False</td>\n",
              "      <td>False</td>\n",
              "      <td>False</td>\n",
              "      <td>False</td>\n",
              "      <td>False</td>\n",
              "      <td>False</td>\n",
              "      <td>False</td>\n",
              "      <td>False</td>\n",
              "      <td>False</td>\n",
              "      <td>False</td>\n",
              "      <td>False</td>\n",
              "    </tr>\n",
              "    <tr>\n",
              "      <th>2</th>\n",
              "      <td>False</td>\n",
              "      <td>False</td>\n",
              "      <td>True</td>\n",
              "      <td>False</td>\n",
              "      <td>False</td>\n",
              "      <td>False</td>\n",
              "      <td>False</td>\n",
              "      <td>False</td>\n",
              "      <td>False</td>\n",
              "      <td>False</td>\n",
              "      <td>False</td>\n",
              "      <td>False</td>\n",
              "      <td>False</td>\n",
              "    </tr>\n",
              "    <tr>\n",
              "      <th>3</th>\n",
              "      <td>False</td>\n",
              "      <td>False</td>\n",
              "      <td>True</td>\n",
              "      <td>False</td>\n",
              "      <td>False</td>\n",
              "      <td>False</td>\n",
              "      <td>False</td>\n",
              "      <td>False</td>\n",
              "      <td>False</td>\n",
              "      <td>False</td>\n",
              "      <td>False</td>\n",
              "      <td>False</td>\n",
              "      <td>False</td>\n",
              "    </tr>\n",
              "    <tr>\n",
              "      <th>4</th>\n",
              "      <td>False</td>\n",
              "      <td>False</td>\n",
              "      <td>False</td>\n",
              "      <td>False</td>\n",
              "      <td>False</td>\n",
              "      <td>False</td>\n",
              "      <td>False</td>\n",
              "      <td>False</td>\n",
              "      <td>False</td>\n",
              "      <td>False</td>\n",
              "      <td>False</td>\n",
              "      <td>False</td>\n",
              "      <td>False</td>\n",
              "    </tr>\n",
              "    <tr>\n",
              "      <th>...</th>\n",
              "      <td>...</td>\n",
              "      <td>...</td>\n",
              "      <td>...</td>\n",
              "      <td>...</td>\n",
              "      <td>...</td>\n",
              "      <td>...</td>\n",
              "      <td>...</td>\n",
              "      <td>...</td>\n",
              "      <td>...</td>\n",
              "      <td>...</td>\n",
              "      <td>...</td>\n",
              "      <td>...</td>\n",
              "      <td>...</td>\n",
              "    </tr>\n",
              "    <tr>\n",
              "      <th>28424</th>\n",
              "      <td>False</td>\n",
              "      <td>False</td>\n",
              "      <td>False</td>\n",
              "      <td>False</td>\n",
              "      <td>False</td>\n",
              "      <td>False</td>\n",
              "      <td>False</td>\n",
              "      <td>False</td>\n",
              "      <td>False</td>\n",
              "      <td>False</td>\n",
              "      <td>False</td>\n",
              "      <td>False</td>\n",
              "      <td>False</td>\n",
              "    </tr>\n",
              "    <tr>\n",
              "      <th>28425</th>\n",
              "      <td>False</td>\n",
              "      <td>False</td>\n",
              "      <td>False</td>\n",
              "      <td>False</td>\n",
              "      <td>False</td>\n",
              "      <td>False</td>\n",
              "      <td>False</td>\n",
              "      <td>False</td>\n",
              "      <td>False</td>\n",
              "      <td>False</td>\n",
              "      <td>False</td>\n",
              "      <td>False</td>\n",
              "      <td>False</td>\n",
              "    </tr>\n",
              "    <tr>\n",
              "      <th>28426</th>\n",
              "      <td>False</td>\n",
              "      <td>False</td>\n",
              "      <td>False</td>\n",
              "      <td>False</td>\n",
              "      <td>True</td>\n",
              "      <td>True</td>\n",
              "      <td>False</td>\n",
              "      <td>False</td>\n",
              "      <td>False</td>\n",
              "      <td>False</td>\n",
              "      <td>False</td>\n",
              "      <td>False</td>\n",
              "      <td>False</td>\n",
              "    </tr>\n",
              "    <tr>\n",
              "      <th>28427</th>\n",
              "      <td>False</td>\n",
              "      <td>False</td>\n",
              "      <td>True</td>\n",
              "      <td>False</td>\n",
              "      <td>True</td>\n",
              "      <td>True</td>\n",
              "      <td>False</td>\n",
              "      <td>False</td>\n",
              "      <td>False</td>\n",
              "      <td>False</td>\n",
              "      <td>False</td>\n",
              "      <td>False</td>\n",
              "      <td>False</td>\n",
              "    </tr>\n",
              "    <tr>\n",
              "      <th>28428</th>\n",
              "      <td>False</td>\n",
              "      <td>False</td>\n",
              "      <td>False</td>\n",
              "      <td>False</td>\n",
              "      <td>False</td>\n",
              "      <td>False</td>\n",
              "      <td>False</td>\n",
              "      <td>False</td>\n",
              "      <td>False</td>\n",
              "      <td>False</td>\n",
              "      <td>False</td>\n",
              "      <td>False</td>\n",
              "      <td>False</td>\n",
              "    </tr>\n",
              "  </tbody>\n",
              "</table>\n",
              "<p>28429 rows × 13 columns</p>\n",
              "</div>"
            ],
            "text/plain": [
              "       PO_NUMBER  CONTRACT_NAME  ...  COMMODITY_CODE  COMMODITY_DESCRIPTION\n",
              "0          False          False  ...           False                  False\n",
              "1          False          False  ...           False                  False\n",
              "2          False          False  ...           False                  False\n",
              "3          False          False  ...           False                  False\n",
              "4          False          False  ...           False                  False\n",
              "...          ...            ...  ...             ...                    ...\n",
              "28424      False          False  ...           False                  False\n",
              "28425      False          False  ...           False                  False\n",
              "28426      False          False  ...           False                  False\n",
              "28427      False          False  ...           False                  False\n",
              "28428      False          False  ...           False                  False\n",
              "\n",
              "[28429 rows x 13 columns]"
            ]
          },
          "metadata": {
            "tags": []
          },
          "execution_count": 26
        }
      ]
    },
    {
      "cell_type": "code",
      "metadata": {
        "id": "_4eumb6j0pSs",
        "colab": {
          "base_uri": "https://localhost:8080/"
        },
        "outputId": "d05a1f9e-90d5-4dc7-95fd-745187aaa1a2"
      },
      "source": [
        "data.isna().sum()"
      ],
      "execution_count": null,
      "outputs": [
        {
          "output_type": "execute_result",
          "data": {
            "text/plain": [
              "PO_NUMBER                   0\n",
              "CONTRACT_NAME               0\n",
              "EXTENDED_DESCRIPTION     9475\n",
              "QUANTITY                    0\n",
              "UNIT_OF_MEASURE          5801\n",
              "UNIT_OF_MEAS_DESC        5801\n",
              "UNIT_PRICE                  0\n",
              "TOTAL_PRICE                 0\n",
              "VENDOR_NAME                 0\n",
              "VENDOR_CITY               405\n",
              "VENDOR_COUNTRY            405\n",
              "COMMODITY_CODE              0\n",
              "COMMODITY_DESCRIPTION       0\n",
              "dtype: int64"
            ]
          },
          "metadata": {
            "tags": []
          },
          "execution_count": 7
        }
      ]
    },
    {
      "cell_type": "code",
      "metadata": {
        "colab": {
          "base_uri": "https://localhost:8080/"
        },
        "id": "J-H63esP0LUM",
        "outputId": "8b53707c-c87f-4fc1-d1d4-1b6eb023b09c"
      },
      "source": [
        "data.dtypes"
      ],
      "execution_count": null,
      "outputs": [
        {
          "output_type": "execute_result",
          "data": {
            "text/plain": [
              "PO_NUMBER                 object\n",
              "CONTRACT_NAME             object\n",
              "EXTENDED_DESCRIPTION      object\n",
              "QUANTITY                 float64\n",
              "UNIT_OF_MEASURE           object\n",
              "UNIT_OF_MEAS_DESC         object\n",
              "UNIT_PRICE               float64\n",
              "TOTAL_PRICE              float64\n",
              "VENDOR_NAME               object\n",
              "VENDOR_CITY               object\n",
              "VENDOR_COUNTRY            object\n",
              "COMMODITY_CODE             int64\n",
              "COMMODITY_DESCRIPTION     object\n",
              "dtype: object"
            ]
          },
          "metadata": {
            "tags": []
          },
          "execution_count": 19
        }
      ]
    },
    {
      "cell_type": "code",
      "metadata": {
        "id": "m-HQcmLjqrBD",
        "colab": {
          "base_uri": "https://localhost:8080/",
          "height": 597
        },
        "outputId": "617e0dd5-d288-461f-aa21-532032989834"
      },
      "source": [
        "data.astype({\"COMMODITY_CODE\":'category'})\n",
        "data.astype({\"EXTENDED_DESCRIPTION\":'string'})"
      ],
      "execution_count": 58,
      "outputs": [
        {
          "output_type": "execute_result",
          "data": {
            "text/html": [
              "<div>\n",
              "<style scoped>\n",
              "    .dataframe tbody tr th:only-of-type {\n",
              "        vertical-align: middle;\n",
              "    }\n",
              "\n",
              "    .dataframe tbody tr th {\n",
              "        vertical-align: top;\n",
              "    }\n",
              "\n",
              "    .dataframe thead th {\n",
              "        text-align: right;\n",
              "    }\n",
              "</style>\n",
              "<table border=\"1\" class=\"dataframe\">\n",
              "  <thead>\n",
              "    <tr style=\"text-align: right;\">\n",
              "      <th></th>\n",
              "      <th>PO_NUMBER</th>\n",
              "      <th>CONTRACT_NAME</th>\n",
              "      <th>EXTENDED_DESCRIPTION</th>\n",
              "      <th>QUANTITY</th>\n",
              "      <th>UNIT_OF_MEASURE</th>\n",
              "      <th>UNIT_OF_MEAS_DESC</th>\n",
              "      <th>UNIT_PRICE</th>\n",
              "      <th>TOTAL_PRICE</th>\n",
              "      <th>VENDOR_NAME</th>\n",
              "      <th>VENDOR_CITY</th>\n",
              "      <th>VENDOR_COUNTRY</th>\n",
              "      <th>COMMODITY_CODE</th>\n",
              "      <th>COMMODITY_DESCRIPTION</th>\n",
              "    </tr>\n",
              "  </thead>\n",
              "  <tbody>\n",
              "    <tr>\n",
              "      <th>0</th>\n",
              "      <td>DOM1100MAX43377</td>\n",
              "      <td>Critical materials Supply Arrangement</td>\n",
              "      <td>TRANSFORMER, DISTRIBUTION, SINGLE PHASE, POLE ...</td>\n",
              "      <td>2.0</td>\n",
              "      <td>EA</td>\n",
              "      <td>Each</td>\n",
              "      <td>1640.00000</td>\n",
              "      <td>3280.00</td>\n",
              "      <td>TECHLINE INC</td>\n",
              "      <td>AUSTIN</td>\n",
              "      <td>US</td>\n",
              "      <td>28586</td>\n",
              "      <td>Transformers, Power Distribution (Incl. Fluid ...</td>\n",
              "    </tr>\n",
              "    <tr>\n",
              "      <th>1</th>\n",
              "      <td>DOM1100MAX41029</td>\n",
              "      <td>forecasted jobs</td>\n",
              "      <td>TRANSFORMER, PAD-MOUNTED, 3 PHASE, FEED THRU S...</td>\n",
              "      <td>2.0</td>\n",
              "      <td>EA</td>\n",
              "      <td>Each</td>\n",
              "      <td>10036.62000</td>\n",
              "      <td>20073.24</td>\n",
              "      <td>TECHLINE INC</td>\n",
              "      <td>AUSTIN</td>\n",
              "      <td>US</td>\n",
              "      <td>28586</td>\n",
              "      <td>Transformers, Power Distribution (Incl. Fluid ...</td>\n",
              "    </tr>\n",
              "    <tr>\n",
              "      <th>2</th>\n",
              "      <td>DO620013050813439</td>\n",
              "      <td>APAC Texas/ Hot Mix/ various sections</td>\n",
              "      <td>&lt;NA&gt;</td>\n",
              "      <td>50.7</td>\n",
              "      <td>TON</td>\n",
              "      <td>Ton</td>\n",
              "      <td>56.00000</td>\n",
              "      <td>2839.20</td>\n",
              "      <td>APAC-TEXAS INC</td>\n",
              "      <td>Round Rock</td>\n",
              "      <td>US</td>\n",
              "      <td>7452114</td>\n",
              "      <td>ASPHALTIC CONCRETE, HOT MIX, IN ACCORDANCE WIT...</td>\n",
              "    </tr>\n",
              "    <tr>\n",
              "      <th>3</th>\n",
              "      <td>DO620010060321850</td>\n",
              "      <td>Apac/hotmix</td>\n",
              "      <td>&lt;NA&gt;</td>\n",
              "      <td>201.3</td>\n",
              "      <td>TON</td>\n",
              "      <td>Ton</td>\n",
              "      <td>54.38003</td>\n",
              "      <td>10946.70</td>\n",
              "      <td>APAC-TEXAS INC</td>\n",
              "      <td>BELTON</td>\n",
              "      <td>US</td>\n",
              "      <td>7452114</td>\n",
              "      <td>ASPHALTIC CONCRETE, HOT MIX, IN ACCORDANCE WIT...</td>\n",
              "    </tr>\n",
              "    <tr>\n",
              "      <th>4</th>\n",
              "      <td>DOM1100MAX39131</td>\n",
              "      <td>Critical materials Supply Arrangement</td>\n",
              "      <td>TRANSFORMER, DISTRIBUTION, SINGLE PHASE, PAD M...</td>\n",
              "      <td>1.0</td>\n",
              "      <td>EA</td>\n",
              "      <td>Each</td>\n",
              "      <td>2850.00000</td>\n",
              "      <td>2850.00</td>\n",
              "      <td>KBS ELECTRICAL DISTRIBUTORS INC</td>\n",
              "      <td>AUSTIN</td>\n",
              "      <td>US</td>\n",
              "      <td>28586</td>\n",
              "      <td>Transformers, Power Distribution (Incl. Fluid ...</td>\n",
              "    </tr>\n",
              "    <tr>\n",
              "      <th>...</th>\n",
              "      <td>...</td>\n",
              "      <td>...</td>\n",
              "      <td>...</td>\n",
              "      <td>...</td>\n",
              "      <td>...</td>\n",
              "      <td>...</td>\n",
              "      <td>...</td>\n",
              "      <td>...</td>\n",
              "      <td>...</td>\n",
              "      <td>...</td>\n",
              "      <td>...</td>\n",
              "      <td>...</td>\n",
              "      <td>...</td>\n",
              "    </tr>\n",
              "    <tr>\n",
              "      <th>28424</th>\n",
              "      <td>DO640015080318050</td>\n",
              "      <td>RZ Communications quote RZ-Q-1054</td>\n",
              "      <td>Motorola Two-Way Radio Parts and Accessories  ...</td>\n",
              "      <td>1.0</td>\n",
              "      <td>EA</td>\n",
              "      <td>Each</td>\n",
              "      <td>99.02000</td>\n",
              "      <td>99.02</td>\n",
              "      <td>RZ COMMUNICATIONS INC</td>\n",
              "      <td>AUSTIN</td>\n",
              "      <td>US</td>\n",
              "      <td>72582</td>\n",
              "      <td>Two-Way Radio Supplies, Parts, and Accessories</td>\n",
              "    </tr>\n",
              "    <tr>\n",
              "      <th>28425</th>\n",
              "      <td>DO640015022509118</td>\n",
              "      <td>RZ COMMUNICATIONS $10,210.03 SEE ATTACHED</td>\n",
              "      <td>Smart 2 Wire W/trans Tube Blk [pmln6129a]</td>\n",
              "      <td>30.0</td>\n",
              "      <td>EA</td>\n",
              "      <td>Each</td>\n",
              "      <td>8.03000</td>\n",
              "      <td>240.90</td>\n",
              "      <td>RZ COMMUNICATIONS INC</td>\n",
              "      <td>AUSTIN</td>\n",
              "      <td>US</td>\n",
              "      <td>72582</td>\n",
              "      <td>Two-Way Radio Supplies, Parts, and Accessories</td>\n",
              "    </tr>\n",
              "    <tr>\n",
              "      <th>28426</th>\n",
              "      <td>DO560011051316686</td>\n",
              "      <td>1099523-Ralph Warren-  Microsoft Core Cals</td>\n",
              "      <td>Additional licenses  1099523-WINDOWS PRO UPS/S...</td>\n",
              "      <td>0.0</td>\n",
              "      <td>NaN</td>\n",
              "      <td>NaN</td>\n",
              "      <td>0.00000</td>\n",
              "      <td>3859.46</td>\n",
              "      <td>Summus Industries, Inc.</td>\n",
              "      <td>SUGAR LAND</td>\n",
              "      <td>US</td>\n",
              "      <td>20811</td>\n",
              "      <td>Application Software, Microcomputer</td>\n",
              "    </tr>\n",
              "    <tr>\n",
              "      <th>28427</th>\n",
              "      <td>DO150016011206100</td>\n",
              "      <td>RED WING Shoes/Boots - FY16</td>\n",
              "      <td>&lt;NA&gt;</td>\n",
              "      <td>0.0</td>\n",
              "      <td>NaN</td>\n",
              "      <td>NaN</td>\n",
              "      <td>0.00000</td>\n",
              "      <td>5000.00</td>\n",
              "      <td>RED WING BRANDS OF AMERICA INC</td>\n",
              "      <td>AUSTIN</td>\n",
              "      <td>US</td>\n",
              "      <td>80072</td>\n",
              "      <td>Shoes, Safety Toe</td>\n",
              "    </tr>\n",
              "    <tr>\n",
              "      <th>28428</th>\n",
              "      <td>PO640014050903586</td>\n",
              "      <td>Insight quote 215596805  U.S. COMMUNITIES</td>\n",
              "      <td>Insight quote 215596805  MR18-HW MERAKI HARDWA...</td>\n",
              "      <td>2.0</td>\n",
              "      <td>EA</td>\n",
              "      <td>Each</td>\n",
              "      <td>431.56000</td>\n",
              "      <td>863.12</td>\n",
              "      <td>INSIGHT PUBLIC SECTOR INC</td>\n",
              "      <td>AUSTIN</td>\n",
              "      <td>US</td>\n",
              "      <td>20464</td>\n",
              "      <td>Network Components: Adapter Cards, Bridges, Co...</td>\n",
              "    </tr>\n",
              "  </tbody>\n",
              "</table>\n",
              "<p>28429 rows × 13 columns</p>\n",
              "</div>"
            ],
            "text/plain": [
              "               PO_NUMBER  ...                              COMMODITY_DESCRIPTION\n",
              "0        DOM1100MAX43377  ...  Transformers, Power Distribution (Incl. Fluid ...\n",
              "1        DOM1100MAX41029  ...  Transformers, Power Distribution (Incl. Fluid ...\n",
              "2      DO620013050813439  ...  ASPHALTIC CONCRETE, HOT MIX, IN ACCORDANCE WIT...\n",
              "3      DO620010060321850  ...  ASPHALTIC CONCRETE, HOT MIX, IN ACCORDANCE WIT...\n",
              "4        DOM1100MAX39131  ...  Transformers, Power Distribution (Incl. Fluid ...\n",
              "...                  ...  ...                                                ...\n",
              "28424  DO640015080318050  ...     Two-Way Radio Supplies, Parts, and Accessories\n",
              "28425  DO640015022509118  ...     Two-Way Radio Supplies, Parts, and Accessories\n",
              "28426  DO560011051316686  ...                Application Software, Microcomputer\n",
              "28427  DO150016011206100  ...                                  Shoes, Safety Toe\n",
              "28428  PO640014050903586  ...  Network Components: Adapter Cards, Bridges, Co...\n",
              "\n",
              "[28429 rows x 13 columns]"
            ]
          },
          "metadata": {
            "tags": []
          },
          "execution_count": 58
        }
      ]
    },
    {
      "cell_type": "markdown",
      "metadata": {
        "id": "_QDLSZwIEjUQ"
      },
      "source": [
        "Issues found in data -\n",
        "1. Null values in the fields - EXTENDED_DESCRIPTION, UNIT_OF_MEASURE, UNIT_OF_MEAS_DESC\n",
        "2. Wrong values for TOTAL_PRICE when QUANTITY = 0\n",
        "3. COMMODITY_CODE column was not categorical\n",
        "4. CONTRACT_NAME and EXTENDED_DESCRIPTION have same values for some samples\n",
        "5. Same commodities sourced from different vendors\n",
        "6. Too many Null values (9000+ for EXTENDED_DESCRIPTION)\n",
        "7. Class imbalance in the range of thousands"
      ]
    },
    {
      "cell_type": "code",
      "metadata": {
        "colab": {
          "base_uri": "https://localhost:8080/"
        },
        "id": "KxXBm6INdBwd",
        "outputId": "a90a8cc1-f0a1-42a0-e237-a51b10c2f462"
      },
      "source": [
        "print('Labels:')\n",
        "data['COMMODITY_CODE'].unique()"
      ],
      "execution_count": null,
      "outputs": [
        {
          "output_type": "stream",
          "text": [
            "Labels:\n"
          ],
          "name": "stdout"
        },
        {
          "output_type": "execute_result",
          "data": {
            "text/plain": [
              "array([  28586, 7452114,   72582,   20464,   28574,   80072,   20811,\n",
              "         54523, 7450841,  555444])"
            ]
          },
          "metadata": {
            "tags": []
          },
          "execution_count": 27
        }
      ]
    },
    {
      "cell_type": "code",
      "metadata": {
        "colab": {
          "base_uri": "https://localhost:8080/",
          "height": 370
        },
        "id": "quIYEjKPGIz4",
        "outputId": "5949c2de-f46f-406e-b465-84036dc26f1d"
      },
      "source": [
        "#Checking for class imbalance\n",
        "\n",
        "print(\"Data distribution of labels:\")\n",
        "cc_28586 = data[data.COMMODITY_CODE == 28586].shape[0]\n",
        "cc_7452114 = data[data.COMMODITY_CODE == 7452114].shape[0] \n",
        "cc_72582 = data[data.COMMODITY_CODE == 72582].shape[0]\n",
        "cc_20464 = data[data.COMMODITY_CODE == 20464].shape[0]\n",
        "cc_28574 = data[data.COMMODITY_CODE == 28574].shape[0]\n",
        "cc_80072 = data[data.COMMODITY_CODE == 80072].shape[0]\n",
        "cc_20811 = data[data.COMMODITY_CODE == 20811].shape[0]\n",
        "cc_54523 = data[data.COMMODITY_CODE == 54523].shape[0]\n",
        "cc_7450841 = data[data.COMMODITY_CODE == 7450841].shape[0]\n",
        "cc_555444 = data[data.COMMODITY_CODE == 555444].shape[0]\n",
        "\n",
        "fig = plt.figure()\n",
        "ax = fig.add_axes([0,0,1,1])\n",
        "class_labels = [  '28586', '7452114',   '72582',   '20464',   '28574',   '80072',   '20811',\n",
        "         '54523', '7450841',  '555444']\n",
        "values =[  cc_28586, cc_7452114,   cc_72582,   cc_20464,   cc_28574,   cc_80072,   cc_20811,\n",
        "         cc_54523, cc_7450841,  cc_555444]\n",
        "total = sum(values)\n",
        "print(total)\n",
        "ax.bar(class_labels,values)\n",
        "plt.show()"
      ],
      "execution_count": 139,
      "outputs": [
        {
          "output_type": "stream",
          "text": [
            "Data distribution of labels:\n",
            "28429\n"
          ],
          "name": "stdout"
        },
        {
          "output_type": "display_data",
          "data": {
            "image/png": "[encoded data removed]",
            "text/plain": [
              "<Figure size 432x288 with 1 Axes>"
            ]
          },
          "metadata": {
            "tags": [],
            "needs_background": "light"
          }
        }
      ]
    },
    {
      "cell_type": "code",
      "metadata": {
        "colab": {
          "base_uri": "https://localhost:8080/"
        },
        "id": "3bv15Dj3-uOO",
        "outputId": "3bbbdfef-e448-42f9-ef5c-ed4335eabd20"
      },
      "source": [
        "\n",
        "#Handle missing values - https://stackoverflow.com/questions/55562696/how-to-replace-missing-values-with-group-mode-in-pandas\n",
        "\n",
        "def fast_mode(df, key_cols, value_col):\n",
        "    \"\"\" \n",
        "    Calculate a column mode, by group, ignoring null values. \n",
        "\n",
        "    Parameters\n",
        "    ----------\n",
        "    df : pandas.DataFrame\n",
        "        DataFrame over which to calcualate the mode. \n",
        "    key_cols : list of str\n",
        "        Columns to groupby for calculation of mode.\n",
        "    value_col : str\n",
        "        Column for which to calculate the mode. \n",
        "\n",
        "    Return\n",
        "    ------ \n",
        "    pandas.DataFrame\n",
        "        One row for the mode of value_col per key_cols group. If ties, \n",
        "        returns the one which is sorted first. \n",
        "    \"\"\"\n",
        "    return (df.groupby(key_cols + [value_col]).size() \n",
        "              .to_frame('counts').reset_index() \n",
        "              .sort_values('counts', ascending=False) \n",
        "              .drop_duplicates(subset=key_cols)).drop(columns='counts')\n",
        "\n",
        "data.loc[data.EXTENDED_DESCRIPTION.isnull(), 'EXTENDED_DESCRIPTION'] = data.COMMODITY_CODE.map(fast_mode(data, ['COMMODITY_CODE'], 'EXTENDED_DESCRIPTION').set_index('COMMODITY_CODE').EXTENDED_DESCRIPTION)\n",
        "data.isna().sum()"
      ],
      "execution_count": 169,
      "outputs": [
        {
          "output_type": "execute_result",
          "data": {
            "text/plain": [
              "PO_NUMBER                   0\n",
              "CONTRACT_NAME               0\n",
              "EXTENDED_DESCRIPTION        0\n",
              "QUANTITY                    0\n",
              "UNIT_OF_MEASURE          5801\n",
              "UNIT_OF_MEAS_DESC        5801\n",
              "UNIT_PRICE                  0\n",
              "TOTAL_PRICE                 0\n",
              "VENDOR_NAME                 0\n",
              "VENDOR_CITY               405\n",
              "VENDOR_COUNTRY            405\n",
              "COMMODITY_CODE              0\n",
              "COMMODITY_DESCRIPTION       0\n",
              "dtype: int64"
            ]
          },
          "metadata": {
            "tags": []
          },
          "execution_count": 169
        }
      ]
    },
    {
      "cell_type": "code",
      "metadata": {
        "id": "_AY7nkH-Ht3q"
      },
      "source": [
        "#Export text data to augment with - https://github.com/jasonwei20/eda_nlp\n",
        "\n",
        "for label in data['COMMODITY_CODE'].unique():\n",
        "  df = data[data.COMMODITY_CODE == label]\n",
        "  lines = df['EXTENDED_DESCRIPTION']\n",
        "  with open('train_'+str(label)+'.txt', 'w') as f:\n",
        "    for line in lines:\n",
        "      f.write(line)\n",
        "      f.write('\\n')"
      ],
      "execution_count": null,
      "outputs": []
    },
    {
      "cell_type": "code",
      "metadata": {
        "colab": {
          "base_uri": "https://localhost:8080/"
        },
        "id": "qPej7ixER2du",
        "outputId": "b75a3fbf-a1f4-4bca-c470-11f4627a147a"
      },
      "source": [
        "pip install unicodecsv"
      ],
      "execution_count": 80,
      "outputs": [
        {
          "output_type": "stream",
          "text": [
            "Collecting unicodecsv\n",
            "  Downloading https://files.pythonhosted.org/packages/6f/a4/691ab63b17505a26096608cc309960b5a6bdf39e4ba1a793d5f9b1a53270/unicodecsv-0.14.1.tar.gz\n",
            "Building wheels for collected packages: unicodecsv\n",
            "  Building wheel for unicodecsv (setup.py) ... \u001b[?25l\u001b[?25hdone\n",
            "  Created wheel for unicodecsv: filename=unicodecsv-0.14.1-cp37-none-any.whl size=10768 sha256=b6b4585e1ae9abd9a387da29820015e4222af9700b94cba948c2d7193b57d776\n",
            "  Stored in directory: /root/.cache/pip/wheels/a6/09/e9/e800279c98a0a8c94543f3de6c8a562f60e51363ed26e71283\n",
            "Successfully built unicodecsv\n",
            "Installing collected packages: unicodecsv\n",
            "Successfully installed unicodecsv-0.14.1\n"
          ],
          "name": "stdout"
        }
      ]
    },
    {
      "cell_type": "code",
      "metadata": {
        "colab": {
          "base_uri": "https://localhost:8080/"
        },
        "id": "9anJDRJEHyn3",
        "outputId": "59f1cb4b-f078-4cb3-d006-0c4d36060952"
      },
      "source": [
        "#Import Augmented data\n",
        "import unicodecsv \n",
        "\n",
        "labels = [ 7452114,   72582,   20464,   28574,   80072,   20811,\n",
        "         54523, 7450841,  555444]\n",
        "\n",
        "ED=[]\n",
        "CC=[]\n",
        "augmented_data=['train_7452114_augmented.txt','train_72582_augmented.txt','train_20464_augmented.txt','train_28574_augmented.txt','train_80072_augmented.txt','train_20811_augmented.txt','train_54523_augmented.txt','train_7450841_augmented.txt','train_555444_augmented.txt']\n",
        "for path in augmented_data:\n",
        "  with open(path, 'rb') as f:\n",
        "    reader = unicodecsv.reader(f, encoding='utf-8', delimiter='\\n')\n",
        "    for line in reader:\n",
        "     ED.append(line[0])\n",
        "     for label in labels:\n",
        "      if path.find(str(label))!= -1:\n",
        "        CC.append(label) # label found\n",
        "        break\n",
        "\n",
        "\n",
        "df_ED = pd.DataFrame(ED, columns =  ['EXTENDED_DESCRIPTION'])\n",
        "df_CC = pd.DataFrame(CC, columns =  ['COMMODITY_CODE'])\n",
        "\n",
        "\n",
        "df = pd.concat([df_ED, df_CC], sort=False, axis =1)\n",
        "df.shape\n",
        "\n",
        "     "
      ],
      "execution_count": 170,
      "outputs": [
        {
          "output_type": "execute_result",
          "data": {
            "text/plain": [
              "(30859, 2)"
            ]
          },
          "metadata": {
            "tags": []
          },
          "execution_count": 170
        }
      ]
    },
    {
      "cell_type": "code",
      "metadata": {
        "colab": {
          "base_uri": "https://localhost:8080/",
          "height": 370
        },
        "id": "ti5eOKVJc6qb",
        "outputId": "65ec5ae0-8db9-4afe-d1a0-ba08692d888c"
      },
      "source": [
        "#Checking for class distribution in augmented data\n",
        "\n",
        "print(\"Data distribution of labels:\")\n",
        "# cc_28586 = df[df.COMMODITY_CODE == 28586].shape[0]\n",
        "cc_7452114 = df[df.COMMODITY_CODE == 7452114].shape[0] \n",
        "cc_72582 = df[df.COMMODITY_CODE == 72582].shape[0]\n",
        "cc_20464 = df[df.COMMODITY_CODE == 20464].shape[0]\n",
        "cc_28574 = df[df.COMMODITY_CODE == 28574].shape[0]\n",
        "cc_80072 = df[df.COMMODITY_CODE == 80072].shape[0]\n",
        "cc_20811 = df[df.COMMODITY_CODE == 20811].shape[0]\n",
        "cc_54523 = df[df.COMMODITY_CODE == 54523].shape[0]\n",
        "cc_7450841 = df[df.COMMODITY_CODE == 7450841].shape[0]\n",
        "cc_555444 = df[df.COMMODITY_CODE == 555444].shape[0]\n",
        "\n",
        "fig = plt.figure()\n",
        "ax = fig.add_axes([0,0,1,1])\n",
        "class_labels = ['7452114',   '72582',   '20464',   '28574',   '80072',   '20811',\n",
        "         '54523', '7450841',  '555444']\n",
        "values =[   cc_7452114,   cc_72582,   cc_20464,   cc_28574,   cc_80072,   cc_20811,\n",
        "         cc_54523, cc_7450841,  cc_555444]\n",
        "total = sum(values)\n",
        "print(values)\n",
        "ax.bar(class_labels,values)\n",
        "plt.show()"
      ],
      "execution_count": 162,
      "outputs": [
        {
          "output_type": "stream",
          "text": [
            "Data distribution of labels:\n",
            "[8261, 4, 90, 4284, 6116, 62, 4996, 3754, 3292]\n"
          ],
          "name": "stdout"
        },
        {
          "output_type": "display_data",
          "data": {
            "image/png": "[encoded data removed]",
            "text/plain": [
              "<Figure size 432x288 with 1 Axes>"
            ]
          },
          "metadata": {
            "tags": [],
            "needs_background": "light"
          }
        }
      ]
    },
    {
      "cell_type": "code",
      "metadata": {
        "id": "WuH2SIg8ZgmM"
      },
      "source": [
        "#Appending randomly picked data samples for class labels which makes helps in balancing the class distribution\n",
        "\n",
        "data = data.append(df[df.COMMODITY_CODE == 7452114 ].sample(n=1000, random_state=1))\n",
        "data = data.append(df[df.COMMODITY_CODE == 28574 ].sample(n=3000, random_state=1))\n",
        "data = data.append(df[df.COMMODITY_CODE == 80072 ].sample(n=2000, random_state=1))\n",
        "data = data.append(df[df.COMMODITY_CODE == 54523 ].sample(n=2500, random_state=1))\n",
        "data = data.append(df[df.COMMODITY_CODE == 7450841 ].sample(n=3000, random_state=1))\n",
        "data = data.append(df[df.COMMODITY_CODE == 555444 ].sample(n=3000, random_state=1))\n"
      ],
      "execution_count": 171,
      "outputs": []
    },
    {
      "cell_type": "code",
      "metadata": {
        "colab": {
          "base_uri": "https://localhost:8080/"
        },
        "id": "J3IDrmVLdhEx",
        "outputId": "14a3eb61-088c-408c-a545-4430bc02c9f8"
      },
      "source": [
        "# Number of rows after appending augmented data to original data frame\n",
        "data.shape"
      ],
      "execution_count": 172,
      "outputs": [
        {
          "output_type": "execute_result",
          "data": {
            "text/plain": [
              "(42929, 13)"
            ]
          },
          "metadata": {
            "tags": []
          },
          "execution_count": 172
        }
      ]
    },
    {
      "cell_type": "code",
      "metadata": {
        "colab": {
          "base_uri": "https://localhost:8080/",
          "height": 370
        },
        "id": "Ui3M_8npUHOH",
        "outputId": "37acc450-534a-4317-c76d-2b7f82340f08"
      },
      "source": [
        "#Checking for class imbalance in augmented data\n",
        "\n",
        "print(\"Data distribution of labels:\")\n",
        "cc_28586 = data[data.COMMODITY_CODE == 28586].shape[0]\n",
        "cc_7452114 = data[data.COMMODITY_CODE == 7452114].shape[0] \n",
        "cc_72582 = data[data.COMMODITY_CODE == 72582].shape[0]\n",
        "cc_20464 = data[data.COMMODITY_CODE == 20464].shape[0]\n",
        "cc_28574 = data[data.COMMODITY_CODE == 28574].shape[0]\n",
        "cc_80072 = data[data.COMMODITY_CODE == 80072].shape[0]\n",
        "cc_20811 = data[data.COMMODITY_CODE == 20811].shape[0]\n",
        "cc_54523 = data[data.COMMODITY_CODE == 54523].shape[0]\n",
        "cc_7450841 = data[data.COMMODITY_CODE == 7450841].shape[0]\n",
        "cc_555444 = data[data.COMMODITY_CODE == 555444].shape[0]\n",
        "\n",
        "fig = plt.figure()\n",
        "ax = fig.add_axes([0,0,1,1])\n",
        "class_labels = [  '28586', '7452114',   '72582',   '20464',   '28574',   '80072',   '20811',\n",
        "         '54523', '7450841',  '555444']\n",
        "values =[  cc_28586, cc_7452114,   cc_72582,   cc_20464,   cc_28574,   cc_80072,   cc_20811,\n",
        "         cc_54523, cc_7450841,  cc_555444]\n",
        "total = sum(values)\n",
        "print(values)\n",
        "ax.bar(class_labels,values)\n",
        "plt.show()"
      ],
      "execution_count": 173,
      "outputs": [
        {
          "output_type": "stream",
          "text": [
            "Data distribution of labels:\n",
            "[5034, 5133, 4027, 1952, 5142, 5058, 2062, 4998, 4877, 4646]\n"
          ],
          "name": "stdout"
        },
        {
          "output_type": "display_data",
          "data": {
            "image/png": "[encoded data removed]",
            "text/plain": [
              "<Figure size 432x288 with 1 Axes>"
            ]
          },
          "metadata": {
            "tags": [],
            "needs_background": "light"
          }
        }
      ]
    },
    {
      "cell_type": "code",
      "metadata": {
        "colab": {
          "base_uri": "https://localhost:8080/"
        },
        "id": "JuNC6HSUmjhB",
        "outputId": "b2694ac6-ad34-4a50-ab78-81d59ec5ae3a"
      },
      "source": [
        "# Splitting data into training and test set\n",
        "\n",
        "X = data['EXTENDED_DESCRIPTION']\n",
        "y = data['COMMODITY_CODE']\n",
        "\n",
        "X = X.values.tolist()\n",
        "y = y.values.tolist()\n",
        "\n",
        "X_train, X_test, y_train, y_test = train_test_split(X, y, test_size=0.30, shuffle=True, random_state=42)\n",
        "\n",
        "print('Number of training samples -',len(X_train))\n",
        "print('Number of samples in test set -',len(X_test))\n"
      ],
      "execution_count": 181,
      "outputs": [
        {
          "output_type": "stream",
          "text": [
            "Number of training samples - 30050\n",
            "Number of samples in test set - 12879\n"
          ],
          "name": "stdout"
        }
      ]
    },
    {
      "cell_type": "code",
      "metadata": {
        "id": "lUS9r4yYMhyN"
      },
      "source": [
        "# Data pre-processing\n",
        "\n",
        "porter = PorterStemmer()\n",
        "wordnet_lemmatizer = WordNetLemmatizer()\n",
        "stop_words = set(stopwords.words('english'))\n",
        "\n",
        "def data_cleaning(text):\n",
        "    # should return a list of tokens\n",
        "    \n",
        "    # word tokenisation, including punctuation removal\n",
        "    tokenizer = RegexpTokenizer(r'\\w+')\n",
        "    tokens = tokenizer.tokenize(text)\n",
        "    \n",
        "    # lowercasing\n",
        "    tokens = [t.lower() for t in tokens]\n",
        "\n",
        "    # stopword removal\n",
        "    if True:\n",
        "        stop = set(stopwords.words('english'))\n",
        "        tokens = [t for t in tokens if t not in stop]\n",
        "    \n",
        "    # lemmatisation\n",
        "    if True:\n",
        "        lemmatiser = WordNetLemmatizer()\n",
        "        tokens = [lemmatiser.lemmatize(t) for t in tokens]\n",
        "        \n",
        "    # stemming- works well with stop word remove\n",
        "    if False:\n",
        "        p_stemmer = PorterStemmer()\n",
        "        tok = []\n",
        "        for t in tokens:\n",
        "            tok.append(p_stemmer.stem(t))\n",
        "        tokens = tok\n",
        "        \n",
        "    tokens = [t for t in tokens if t] # ensure no empty space\n",
        "    \n",
        "    return tokens"
      ],
      "execution_count": 7,
      "outputs": []
    },
    {
      "cell_type": "code",
      "metadata": {
        "colab": {
          "base_uri": "https://localhost:8080/"
        },
        "id": "3edreXHdHQoE",
        "outputId": "6e85b29c-ba52-4286-9a38-be74fe674f59"
      },
      "source": [
        "print(data_cleaning('Smart 2 Wire W/trans Tube Blk [pmln6129a]\t'))"
      ],
      "execution_count": 78,
      "outputs": [
        {
          "output_type": "stream",
          "text": [
            "['smart', '2', 'wire', 'w', 'trans', 'tube', 'blk', 'pmln6129a']\n"
          ],
          "name": "stdout"
        }
      ]
    },
    {
      "cell_type": "code",
      "metadata": {
        "id": "l0geXusSuZXe"
      },
      "source": [
        "# Labels to integers \n",
        "\n",
        "def label2int(labels):\n",
        "  y = []\n",
        "  for label in labels:\n",
        "    if label == 28586:\n",
        "      y.append(0)\n",
        "    if label == 7452114:\n",
        "      y.append(1) \n",
        "    if label == 72582:\n",
        "      y.append(2)  \n",
        "    if label == 20464:\n",
        "      y.append(3)  \n",
        "    if label == 28574:\n",
        "      y.append(4)  \n",
        "    if label == 80072:\n",
        "      y.append(5)    \n",
        "    if label == 20811:\n",
        "      y.append(6)    \n",
        "    if label == 54523:\n",
        "      y.append(7)    \n",
        "    if label == 7450841:\n",
        "      y.append(8)    \n",
        "    if label == 555444:\n",
        "      y.append(9)    \n",
        "  return y\n"
      ],
      "execution_count": 13,
      "outputs": []
    },
    {
      "cell_type": "code",
      "metadata": {
        "colab": {
          "base_uri": "https://localhost:8080/"
        },
        "id": "RWZIV3dPvYNP",
        "outputId": "1db30ab4-41da-4a3e-c9e5-d6083a66d671"
      },
      "source": [
        "y_train_int = np.array(label2int(y_train))\n",
        "y_test_int = np.array(label2int(y_test))\n",
        "\n",
        "print(y_train[0])\n",
        "print(y_train_int[0])"
      ],
      "execution_count": 22,
      "outputs": [
        {
          "output_type": "stream",
          "text": [
            "28586\n",
            "0\n"
          ],
          "name": "stdout"
        }
      ]
    },
    {
      "cell_type": "code",
      "metadata": {
        "id": "4qejRbWavdUe"
      },
      "source": [
        "#Vectorization\n",
        "\n",
        "featureDict = {} # the global feature dictionary\n",
        "\n",
        "def toFeatureVector(tokens):\n",
        "    # return a dictionary 'featureVect' where the keys are the tokens in 'words' and the values are the number of occurrences of the tokens\n",
        "    \n",
        "    featureVec = {}\n",
        "\n",
        "    for w in tokens:\n",
        "        try:\n",
        "            featureVec[w] += 1.0/len(tokens)\n",
        "        except KeyError:\n",
        "            featureVec[w] = 1.0/len(tokens)\n",
        "        try:\n",
        "            featureDict[w] += 1.0/len(tokens)\n",
        "        except KeyError:\n",
        "            featureDict[w] = 1.0/len(tokens)\n",
        "    \n",
        "       #  bigram binary presence \n",
        "    for i in range(1, len(tokens)):\n",
        "      bigram = tokens[i-1] + \" \" + tokens[i]\n",
        "      try:\n",
        "        featureVec[bigram] = 1 #+= 1.0/len(tokens)\n",
        "      except KeyError:\n",
        "        featureVec[bigram] = 1 #= 1.0/len(tokens)\n",
        "      try:\n",
        "        featureDict[bigram] += 1.0\n",
        "      except KeyError:\n",
        "        featureDict[bigram] = 1.0\n",
        "    return featureVec"
      ],
      "execution_count": 12,
      "outputs": []
    },
    {
      "cell_type": "code",
      "metadata": {
        "id": "17fLe8DIbRnG"
      },
      "source": [
        "# Creating training data for classifier\n",
        "\n",
        "X_train_processed  = []\n",
        "X_test_processed = []\n",
        "\n",
        "for i in range(len(X_train)):\n",
        "  X_train_processed.append((toFeatureVector(data_cleaning(X_train[i])),y_train_int[i]))\n",
        "\n",
        "for i in range(len(X_test)):  \n",
        "  X_test_processed.append((toFeatureVector(data_cleaning(X_test[i])),y_test_int[i]))"
      ],
      "execution_count": 30,
      "outputs": []
    },
    {
      "cell_type": "code",
      "metadata": {
        "colab": {
          "base_uri": "https://localhost:8080/"
        },
        "id": "SwS6hCdmDg2C",
        "outputId": "6be71114-3cc5-40fe-f7e0-9bce7ca19981"
      },
      "source": [
        "# Weighting classes to combat class imbalance in data\n",
        "\n",
        "weight_for_0 = (1 / cc_28586) * (total / 10.0)\n",
        "weight_for_1 = (1 / cc_7452114) * (total / 10.0)\n",
        "weight_for_2 = (1 / cc_72582) * (total / 10.0)\n",
        "weight_for_3 = (1 / cc_20464) * (total / 10.0)\n",
        "weight_for_4 = (1 / cc_28574) * (total / 10.0)\n",
        "weight_for_5 = (1 / cc_80072) * (total / 10.0)\n",
        "weight_for_6 = (1 / cc_20811) * (total / 10.0)\n",
        "weight_for_7 = (1 / cc_54523) * (total / 10.0)\n",
        "weight_for_8 = (1 / cc_7450841) * (total / 10.0)\n",
        "weight_for_9 = (1 / cc_555444) * (total / 10.0)\n",
        "\n",
        "class_weight = {0: weight_for_0, 1: weight_for_1, 2: weight_for_2, 3: weight_for_3, 4:weight_for_4, 5:weight_for_5, 6:weight_for_6, 7:weight_for_7, 8:weight_for_8, 9:weight_for_9}\n",
        "\n",
        "print('Weight for class 0: {:.2f}'.format(weight_for_0))\n",
        "print('Weight for class 1: {:.2f}'.format(weight_for_1))\n",
        "print('Weight for class 2: {:.2f}'.format(weight_for_2))\n",
        "print('Weight for class 3: {:.2f}'.format(weight_for_3))\n",
        "print('Weight for class 4: {:.2f}'.format(weight_for_4))\n",
        "print('Weight for class 5: {:.2f}'.format(weight_for_5))\n",
        "print('Weight for class 6: {:.2f}'.format(weight_for_6))\n",
        "print('Weight for class 7: {:.2f}'.format(weight_for_7))\n",
        "print('Weight for class 8: {:.2f}'.format(weight_for_8))\n",
        "print('Weight for class 9: {:.2f}'.format(weight_for_9))"
      ],
      "execution_count": 64,
      "outputs": [
        {
          "output_type": "stream",
          "text": [
            "Weight for class 0: 0.56\n",
            "Weight for class 1: 0.69\n",
            "Weight for class 2: 0.71\n",
            "Weight for class 3: 1.46\n",
            "Weight for class 4: 1.33\n",
            "Weight for class 5: 0.93\n",
            "Weight for class 6: 1.38\n",
            "Weight for class 7: 1.14\n",
            "Weight for class 8: 1.51\n",
            "Weight for class 9: 1.73\n"
          ],
          "name": "stdout"
        }
      ]
    },
    {
      "cell_type": "code",
      "metadata": {
        "id": "25HCRPXAOnin"
      },
      "source": [
        "# Training and validating classifier \n",
        "from sklearn.linear_model import LogisticRegression\n",
        "from sklearn import svm\n",
        "from sklearn.neural_network import MLPClassifier\n",
        "\n",
        "\n",
        "# clf = tree.DecisionTreeClassifier(class_weight=class_weight)\n",
        "# clf = svm.SVC(decision_function_shape='ovo')\n",
        "# clf = LogisticRegression(class_weight=class_weight, multi_class='auto')\n",
        "\n",
        "clf = MLPClassifier(hidden_layer_sizes=(150,100,50), max_iter=50,activation = 'relu',solver='adam',random_state=1)\n",
        "\n",
        "def trainClassifier(trainData):\n",
        "    print(\"Training Classifier...\")\n",
        "    pipeline =  Pipeline([('tfidf', TfidfTransformer()),('chi2', SelectKBest(chi2, k=20000)),('MLP', clf)])\n",
        "    return SklearnClassifier(pipeline).train(trainData)"
      ],
      "execution_count": 200,
      "outputs": []
    },
    {
      "cell_type": "code",
      "metadata": {
        "id": "H5a6mqMpvgZT"
      },
      "source": [
        "# K-fold cross-validation\n",
        "\n",
        "def crossValidate(dataset, folds):\n",
        "    shuffle(dataset)\n",
        "    results = []\n",
        "    foldSize = int(len(dataset)/folds)\n",
        "    \n",
        "    for i in range(0,len(dataset),int(foldSize)):\n",
        "        print(\"Fold start on items %d - %d\" % (i, i+foldSize))\n",
        "        myTestData = dataset[i:i+foldSize]\n",
        "        myTrainData = dataset[:i] + dataset[i+foldSize:]\n",
        "        classifier = trainClassifier(myTrainData)\n",
        "        y_true = [x[1] for x in myTestData]\n",
        "        y_pred = predictLabels(myTestData, classifier)\n",
        "        print(set(y_true)-set(y_pred))\n",
        "        print(len(myTestData))\n",
        "        results.append(precision_recall_fscore_support(y_true, y_pred, average='weighted'))\n",
        "        \n",
        "    print(zip(*results))\n",
        "    avgResults = [np.mean([x[0] for x in results]),\n",
        "                   np.mean([x[1] for x in results]),\n",
        "                   np.mean([x[2] for x in results])\n",
        "                ]\n",
        "    return avgResults"
      ],
      "execution_count": 76,
      "outputs": []
    },
    {
      "cell_type": "code",
      "metadata": {
        "id": "B-Tt2pTPvz4v"
      },
      "source": [
        "# Label predictions\n",
        "\n",
        "def predictLabels(reviewSamples, classifier):\n",
        "    return classifier.classify_many(map(lambda t: t[0], reviewSamples))"
      ],
      "execution_count": 68,
      "outputs": []
    },
    {
      "cell_type": "code",
      "metadata": {
        "colab": {
          "base_uri": "https://localhost:8080/"
        },
        "id": "hJeNqirWPgYV",
        "outputId": "bcb414d1-961c-42ec-9b30-a3030bd91273"
      },
      "source": [
        "# Driver code for training and cross-validation\n",
        "\n",
        "cv_results = crossValidate(X_train_processed, 10)\n",
        "print(cv_results)"
      ],
      "execution_count": 201,
      "outputs": [
        {
          "output_type": "stream",
          "text": [
            "Fold start on items 0 - 1135\n",
            "Training Classifier...\n",
            "{7}\n",
            "1135\n",
            "Fold start on items 1135 - 2270\n",
            "Training Classifier...\n"
          ],
          "name": "stdout"
        },
        {
          "output_type": "stream",
          "text": [
            "/usr/local/lib/python3.7/dist-packages/sklearn/metrics/_classification.py:1272: UndefinedMetricWarning: Precision and F-score are ill-defined and being set to 0.0 in labels with no predicted samples. Use `zero_division` parameter to control this behavior.\n",
            "  _warn_prf(average, modifier, msg_start, len(result))\n",
            "/usr/local/lib/python3.7/dist-packages/sklearn/metrics/_classification.py:1272: UndefinedMetricWarning: Recall and F-score are ill-defined and being set to 0.0 in labels with no true samples. Use `zero_division` parameter to control this behavior.\n",
            "  _warn_prf(average, modifier, msg_start, len(result))\n"
          ],
          "name": "stderr"
        },
        {
          "output_type": "stream",
          "text": [
            "set()\n",
            "1135\n",
            "Fold start on items 2270 - 3405\n",
            "Training Classifier...\n"
          ],
          "name": "stdout"
        },
        {
          "output_type": "stream",
          "text": [
            "/usr/local/lib/python3.7/dist-packages/sklearn/metrics/_classification.py:1272: UndefinedMetricWarning: Recall and F-score are ill-defined and being set to 0.0 in labels with no true samples. Use `zero_division` parameter to control this behavior.\n",
            "  _warn_prf(average, modifier, msg_start, len(result))\n"
          ],
          "name": "stderr"
        },
        {
          "output_type": "stream",
          "text": [
            "set()\n",
            "1135\n",
            "Fold start on items 3405 - 4540\n",
            "Training Classifier...\n",
            "{8, 7}\n",
            "1135\n",
            "Fold start on items 4540 - 5675\n",
            "Training Classifier...\n"
          ],
          "name": "stdout"
        },
        {
          "output_type": "stream",
          "text": [
            "/usr/local/lib/python3.7/dist-packages/sklearn/metrics/_classification.py:1272: UndefinedMetricWarning: Precision and F-score are ill-defined and being set to 0.0 in labels with no predicted samples. Use `zero_division` parameter to control this behavior.\n",
            "  _warn_prf(average, modifier, msg_start, len(result))\n"
          ],
          "name": "stderr"
        },
        {
          "output_type": "stream",
          "text": [
            "{7}\n",
            "1135\n",
            "Fold start on items 5675 - 6810\n",
            "Training Classifier...\n"
          ],
          "name": "stdout"
        },
        {
          "output_type": "stream",
          "text": [
            "/usr/local/lib/python3.7/dist-packages/sklearn/metrics/_classification.py:1272: UndefinedMetricWarning: Precision and F-score are ill-defined and being set to 0.0 in labels with no predicted samples. Use `zero_division` parameter to control this behavior.\n",
            "  _warn_prf(average, modifier, msg_start, len(result))\n"
          ],
          "name": "stderr"
        },
        {
          "output_type": "stream",
          "text": [
            "{8}\n",
            "1135\n",
            "Fold start on items 6810 - 7945\n",
            "Training Classifier...\n"
          ],
          "name": "stdout"
        },
        {
          "output_type": "stream",
          "text": [
            "/usr/local/lib/python3.7/dist-packages/sklearn/metrics/_classification.py:1272: UndefinedMetricWarning: Precision and F-score are ill-defined and being set to 0.0 in labels with no predicted samples. Use `zero_division` parameter to control this behavior.\n",
            "  _warn_prf(average, modifier, msg_start, len(result))\n"
          ],
          "name": "stderr"
        },
        {
          "output_type": "stream",
          "text": [
            "set()\n",
            "1135\n",
            "Fold start on items 7945 - 9080\n",
            "Training Classifier...\n",
            "{7}\n",
            "1135\n",
            "Fold start on items 9080 - 10215\n",
            "Training Classifier...\n"
          ],
          "name": "stdout"
        },
        {
          "output_type": "stream",
          "text": [
            "/usr/local/lib/python3.7/dist-packages/sklearn/metrics/_classification.py:1272: UndefinedMetricWarning: Precision and F-score are ill-defined and being set to 0.0 in labels with no predicted samples. Use `zero_division` parameter to control this behavior.\n",
            "  _warn_prf(average, modifier, msg_start, len(result))\n"
          ],
          "name": "stderr"
        },
        {
          "output_type": "stream",
          "text": [
            "set()\n",
            "1135\n",
            "Fold start on items 10215 - 11350\n",
            "Training Classifier...\n",
            "set()\n",
            "1135\n",
            "Fold start on items 11350 - 12485\n",
            "Training Classifier...\n",
            "set()\n",
            "7\n",
            "<zip object at 0x7f07d9b09cd0>\n",
            "[0.968267330023843, 0.965478574289147, 0.9655354789910107]\n"
          ],
          "name": "stdout"
        }
      ]
    },
    {
      "cell_type": "code",
      "metadata": {
        "colab": {
          "base_uri": "https://localhost:8080/"
        },
        "id": "nQin9KmaPkKb",
        "outputId": "561c8119-425f-4131-ec74-fa5acd930846"
      },
      "source": [
        "functions_complete = True  # set to True after cross validation\n",
        "if functions_complete:\n",
        "    print(X_test_processed[0])   # first test data instance\n",
        "    classifier = trainClassifier(X_train_processed)  # training the classifier\n",
        "    testTrue = [t[1] for t in X_test_processed]   # ground-truth labels from the data\n",
        "    testPred = predictLabels(X_test_processed, classifier)  # predicted labels\n",
        "    finalScores = precision_recall_fscore_support(testTrue, testPred, average='weighted') # evaluation of predictions on test set\n",
        "    print(\"Done training!\")\n",
        "    print(\"Precision: %f\\nRecall: %f\\nF Score:%f\" % finalScores[:3])"
      ],
      "execution_count": 202,
      "outputs": [
        {
          "output_type": "stream",
          "text": [
            "({'sound': 0.16666666666666666, 'signal': 0.16666666666666666, 'pul3m03': 0.16666666666666666, 'visor': 0.16666666666666666, 'mount': 0.16666666666666666, 'bracket': 0.16666666666666666, 'sound signal': 1, 'signal pul3m03': 1, 'pul3m03 visor': 1, 'visor mount': 1, 'mount bracket': 1}, 9)\n",
            "Training Classifier...\n"
          ],
          "name": "stdout"
        },
        {
          "output_type": "stream",
          "text": [
            "/usr/local/lib/python3.7/dist-packages/sklearn/neural_network/_multilayer_perceptron.py:571: ConvergenceWarning: Stochastic Optimizer: Maximum iterations (50) reached and the optimization hasn't converged yet.\n",
            "  % self.max_iter, ConvergenceWarning)\n"
          ],
          "name": "stderr"
        },
        {
          "output_type": "stream",
          "text": [
            "Done training!\n",
            "Precision: 0.970637\n",
            "Recall: 0.969803\n",
            "F Score:0.969271\n"
          ],
          "name": "stdout"
        },
        {
          "output_type": "stream",
          "text": [
            "/usr/local/lib/python3.7/dist-packages/sklearn/metrics/_classification.py:1272: UndefinedMetricWarning: Precision and F-score are ill-defined and being set to 0.0 in labels with no predicted samples. Use `zero_division` parameter to control this behavior.\n",
            "  _warn_prf(average, modifier, msg_start, len(result))\n"
          ],
          "name": "stderr"
        }
      ]
    },
    {
      "cell_type": "code",
      "metadata": {
        "id": "uoK2ff8tP01i"
      },
      "source": [
        "# Visualizing predictions on test set\n",
        "\n",
        "def confusion_matrix_heatmap(y_test, preds):\n",
        "    labels = [28586, 7452114,   72582,   20464,   28574,   80072,   20811,\n",
        "         54523, 7450841,  555444]\n",
        "    for label in y_test:\n",
        "      label = labels[label]\n",
        "    for label in preds:\n",
        "      label = labels[label]  \n",
        "    cm = confusion_matrix(y_test, preds, list(set(y_test)))\n",
        "    fig = plt.figure(figsize=(20,20))\n",
        "    ax = fig.add_subplot(111)\n",
        "    cax = ax.matshow(cm)\n",
        "    plt.title('Confusion matrix of the classifier')\n",
        "    fig.colorbar(cax)\n",
        "    ax.set_xticks(np.arange(len(labels)))\n",
        "    ax.set_yticks(np.arange(len(labels)))\n",
        "    ax.set_xticklabels( labels, rotation=45)\n",
        "    ax.set_yticklabels( labels)\n",
        "\n",
        "    for i in range(len(cm)):\n",
        "        for j in range(len(cm)):\n",
        "            text = ax.text(j, i, cm[i, j],\n",
        "                           ha=\"center\", va=\"center\", color=\"w\")\n",
        "\n",
        "    plt.xlabel('Predicted')\n",
        "    plt.ylabel('True')\n",
        "    plt.show()"
      ],
      "execution_count": null,
      "outputs": []
    },
    {
      "cell_type": "code",
      "metadata": {
        "colab": {
          "base_uri": "https://localhost:8080/",
          "height": 1000
        },
        "id": "MFlGHKNiPnWF",
        "outputId": "273a8342-441e-4a89-9e13-cba5c92f32d5"
      },
      "source": [
        "\n",
        "confusion_matrix_heatmap(testTrue, testPred)    "
      ],
      "execution_count": 203,
      "outputs": [
        {
          "output_type": "display_data",
          "data": {
            "image/png": "[encoded data removed]",
            "text/plain": [
              "<Figure size 1440x1440 with 2 Axes>"
            ]
          },
          "metadata": {
            "tags": [],
            "needs_background": "light"
          }
        }
      ]
    }
  ]
}